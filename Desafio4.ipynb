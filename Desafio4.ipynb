{
  "nbformat": 4,
  "nbformat_minor": 0,
  "metadata": {
    "colab": {
      "provenance": [],
      "authorship_tag": "ABX9TyOQhY8e84CmES+hr/EjB2ss",
      "include_colab_link": true
    },
    "kernelspec": {
      "name": "python3",
      "display_name": "Python 3"
    },
    "language_info": {
      "name": "python"
    }
  },
  "cells": [
    {
      "cell_type": "markdown",
      "metadata": {
        "id": "view-in-github",
        "colab_type": "text"
      },
      "source": [
        "<a href=\"https://colab.research.google.com/github/Melquisadec/salario-profissionais-dados/blob/main/Desafio4.ipynb\" target=\"_parent\"><img src=\"https://colab.research.google.com/assets/colab-badge.svg\" alt=\"Open In Colab\"/></a>"
      ]
    },
    {
      "cell_type": "markdown",
      "source": [
        "### Análise Estatística: Salário de Profissionais de Dados\n",
        "\n",
        "- Este projeto tem como objetivo aplicar técnicas de estatística descritiva em um conjunto de dados contendo informações sobre profissionais da área de dados ao redor do mundo. A ideia é utilizar ferramentas de análise exploratória e visualização para entender como diferentes fatores impactam o salário desses profissionais.\n",
        "\n",
        "- A primeira parte do código é importar as bibliotecas de manipulação e as de visualização de dados e após ler esses dados."
      ],
      "metadata": {
        "id": "RitE1MSbfHLw"
      }
    },
    {
      "cell_type": "code",
      "execution_count": 1,
      "metadata": {
        "id": "GQcB1Wdwe-nK"
      },
      "outputs": [],
      "source": [
        "import pandas as pd\n",
        "import matplotlib.pyplot as plt\n",
        "import seaborn as sns"
      ]
    },
    {
      "cell_type": "markdown",
      "source": [
        "Vamos importar os dados utilizando a função read csv"
      ],
      "metadata": {
        "id": "DR6k4oJPf7Vm"
      }
    },
    {
      "cell_type": "code",
      "source": [
        "df = pd.read_csv('salario_profissionais_dados.csv')"
      ],
      "metadata": {
        "id": "2BhX-a8CfBrd"
      },
      "execution_count": 3,
      "outputs": []
    },
    {
      "cell_type": "markdown",
      "source": [
        "## **Etapa 1**\n",
        "Para verificar as primeiras linhas do data.frame podemos utilizar a função head e no argumento posso especificar a quantidade de linhas para mostrar."
      ],
      "metadata": {
        "id": "Vuv7QkeFgUB4"
      }
    },
    {
      "cell_type": "code",
      "source": [
        "df.head(2)"
      ],
      "metadata": {
        "colab": {
          "base_uri": "https://localhost:8080/",
          "height": 219
        },
        "id": "klOoUeNpgMGY",
        "outputId": "a1b1e836-20c7-4149-c7c3-bdd1f4c0bb1b"
      },
      "execution_count": 6,
      "outputs": [
        {
          "output_type": "execute_result",
          "data": {
            "text/plain": [
              "   work_year                   country    region experience_level  \\\n",
              "0       2023                     Spain    Europe               SE   \n",
              "1       2023  United States of America  Americas               MI   \n",
              "\n",
              "                  job_title  salary_in_usd employee_residence  \\\n",
              "0  Principal Data Scientist          85847                 ES   \n",
              "1               ML Engineer          30000                 US   \n",
              "\n",
              "  company_location company_size  years_of_experience  \n",
              "0               ES            L                    8  \n",
              "1               US            S                    5  "
            ],
            "text/html": [
              "\n",
              "  <div id=\"df-ee0fa68e-b84b-4555-8c8b-969ef70d0981\" class=\"colab-df-container\">\n",
              "    <div>\n",
              "<style scoped>\n",
              "    .dataframe tbody tr th:only-of-type {\n",
              "        vertical-align: middle;\n",
              "    }\n",
              "\n",
              "    .dataframe tbody tr th {\n",
              "        vertical-align: top;\n",
              "    }\n",
              "\n",
              "    .dataframe thead th {\n",
              "        text-align: right;\n",
              "    }\n",
              "</style>\n",
              "<table border=\"1\" class=\"dataframe\">\n",
              "  <thead>\n",
              "    <tr style=\"text-align: right;\">\n",
              "      <th></th>\n",
              "      <th>work_year</th>\n",
              "      <th>country</th>\n",
              "      <th>region</th>\n",
              "      <th>experience_level</th>\n",
              "      <th>job_title</th>\n",
              "      <th>salary_in_usd</th>\n",
              "      <th>employee_residence</th>\n",
              "      <th>company_location</th>\n",
              "      <th>company_size</th>\n",
              "      <th>years_of_experience</th>\n",
              "    </tr>\n",
              "  </thead>\n",
              "  <tbody>\n",
              "    <tr>\n",
              "      <th>0</th>\n",
              "      <td>2023</td>\n",
              "      <td>Spain</td>\n",
              "      <td>Europe</td>\n",
              "      <td>SE</td>\n",
              "      <td>Principal Data Scientist</td>\n",
              "      <td>85847</td>\n",
              "      <td>ES</td>\n",
              "      <td>ES</td>\n",
              "      <td>L</td>\n",
              "      <td>8</td>\n",
              "    </tr>\n",
              "    <tr>\n",
              "      <th>1</th>\n",
              "      <td>2023</td>\n",
              "      <td>United States of America</td>\n",
              "      <td>Americas</td>\n",
              "      <td>MI</td>\n",
              "      <td>ML Engineer</td>\n",
              "      <td>30000</td>\n",
              "      <td>US</td>\n",
              "      <td>US</td>\n",
              "      <td>S</td>\n",
              "      <td>5</td>\n",
              "    </tr>\n",
              "  </tbody>\n",
              "</table>\n",
              "</div>\n",
              "    <div class=\"colab-df-buttons\">\n",
              "\n",
              "  <div class=\"colab-df-container\">\n",
              "    <button class=\"colab-df-convert\" onclick=\"convertToInteractive('df-ee0fa68e-b84b-4555-8c8b-969ef70d0981')\"\n",
              "            title=\"Convert this dataframe to an interactive table.\"\n",
              "            style=\"display:none;\">\n",
              "\n",
              "  <svg xmlns=\"http://www.w3.org/2000/svg\" height=\"24px\" viewBox=\"0 -960 960 960\">\n",
              "    <path d=\"M120-120v-720h720v720H120Zm60-500h600v-160H180v160Zm220 220h160v-160H400v160Zm0 220h160v-160H400v160ZM180-400h160v-160H180v160Zm440 0h160v-160H620v160ZM180-180h160v-160H180v160Zm440 0h160v-160H620v160Z\"/>\n",
              "  </svg>\n",
              "    </button>\n",
              "\n",
              "  <style>\n",
              "    .colab-df-container {\n",
              "      display:flex;\n",
              "      gap: 12px;\n",
              "    }\n",
              "\n",
              "    .colab-df-convert {\n",
              "      background-color: #E8F0FE;\n",
              "      border: none;\n",
              "      border-radius: 50%;\n",
              "      cursor: pointer;\n",
              "      display: none;\n",
              "      fill: #1967D2;\n",
              "      height: 32px;\n",
              "      padding: 0 0 0 0;\n",
              "      width: 32px;\n",
              "    }\n",
              "\n",
              "    .colab-df-convert:hover {\n",
              "      background-color: #E2EBFA;\n",
              "      box-shadow: 0px 1px 2px rgba(60, 64, 67, 0.3), 0px 1px 3px 1px rgba(60, 64, 67, 0.15);\n",
              "      fill: #174EA6;\n",
              "    }\n",
              "\n",
              "    .colab-df-buttons div {\n",
              "      margin-bottom: 4px;\n",
              "    }\n",
              "\n",
              "    [theme=dark] .colab-df-convert {\n",
              "      background-color: #3B4455;\n",
              "      fill: #D2E3FC;\n",
              "    }\n",
              "\n",
              "    [theme=dark] .colab-df-convert:hover {\n",
              "      background-color: #434B5C;\n",
              "      box-shadow: 0px 1px 3px 1px rgba(0, 0, 0, 0.15);\n",
              "      filter: drop-shadow(0px 1px 2px rgba(0, 0, 0, 0.3));\n",
              "      fill: #FFFFFF;\n",
              "    }\n",
              "  </style>\n",
              "\n",
              "    <script>\n",
              "      const buttonEl =\n",
              "        document.querySelector('#df-ee0fa68e-b84b-4555-8c8b-969ef70d0981 button.colab-df-convert');\n",
              "      buttonEl.style.display =\n",
              "        google.colab.kernel.accessAllowed ? 'block' : 'none';\n",
              "\n",
              "      async function convertToInteractive(key) {\n",
              "        const element = document.querySelector('#df-ee0fa68e-b84b-4555-8c8b-969ef70d0981');\n",
              "        const dataTable =\n",
              "          await google.colab.kernel.invokeFunction('convertToInteractive',\n",
              "                                                    [key], {});\n",
              "        if (!dataTable) return;\n",
              "\n",
              "        const docLinkHtml = 'Like what you see? Visit the ' +\n",
              "          '<a target=\"_blank\" href=https://colab.research.google.com/notebooks/data_table.ipynb>data table notebook</a>'\n",
              "          + ' to learn more about interactive tables.';\n",
              "        element.innerHTML = '';\n",
              "        dataTable['output_type'] = 'display_data';\n",
              "        await google.colab.output.renderOutput(dataTable, element);\n",
              "        const docLink = document.createElement('div');\n",
              "        docLink.innerHTML = docLinkHtml;\n",
              "        element.appendChild(docLink);\n",
              "      }\n",
              "    </script>\n",
              "  </div>\n",
              "\n",
              "\n",
              "<div id=\"df-acd7b7ff-233b-43ef-b375-b94cb7302224\">\n",
              "  <button class=\"colab-df-quickchart\" onclick=\"quickchart('df-acd7b7ff-233b-43ef-b375-b94cb7302224')\"\n",
              "            title=\"Suggest charts\"\n",
              "            style=\"display:none;\">\n",
              "\n",
              "<svg xmlns=\"http://www.w3.org/2000/svg\" height=\"24px\"viewBox=\"0 0 24 24\"\n",
              "     width=\"24px\">\n",
              "    <g>\n",
              "        <path d=\"M19 3H5c-1.1 0-2 .9-2 2v14c0 1.1.9 2 2 2h14c1.1 0 2-.9 2-2V5c0-1.1-.9-2-2-2zM9 17H7v-7h2v7zm4 0h-2V7h2v10zm4 0h-2v-4h2v4z\"/>\n",
              "    </g>\n",
              "</svg>\n",
              "  </button>\n",
              "\n",
              "<style>\n",
              "  .colab-df-quickchart {\n",
              "      --bg-color: #E8F0FE;\n",
              "      --fill-color: #1967D2;\n",
              "      --hover-bg-color: #E2EBFA;\n",
              "      --hover-fill-color: #174EA6;\n",
              "      --disabled-fill-color: #AAA;\n",
              "      --disabled-bg-color: #DDD;\n",
              "  }\n",
              "\n",
              "  [theme=dark] .colab-df-quickchart {\n",
              "      --bg-color: #3B4455;\n",
              "      --fill-color: #D2E3FC;\n",
              "      --hover-bg-color: #434B5C;\n",
              "      --hover-fill-color: #FFFFFF;\n",
              "      --disabled-bg-color: #3B4455;\n",
              "      --disabled-fill-color: #666;\n",
              "  }\n",
              "\n",
              "  .colab-df-quickchart {\n",
              "    background-color: var(--bg-color);\n",
              "    border: none;\n",
              "    border-radius: 50%;\n",
              "    cursor: pointer;\n",
              "    display: none;\n",
              "    fill: var(--fill-color);\n",
              "    height: 32px;\n",
              "    padding: 0;\n",
              "    width: 32px;\n",
              "  }\n",
              "\n",
              "  .colab-df-quickchart:hover {\n",
              "    background-color: var(--hover-bg-color);\n",
              "    box-shadow: 0 1px 2px rgba(60, 64, 67, 0.3), 0 1px 3px 1px rgba(60, 64, 67, 0.15);\n",
              "    fill: var(--button-hover-fill-color);\n",
              "  }\n",
              "\n",
              "  .colab-df-quickchart-complete:disabled,\n",
              "  .colab-df-quickchart-complete:disabled:hover {\n",
              "    background-color: var(--disabled-bg-color);\n",
              "    fill: var(--disabled-fill-color);\n",
              "    box-shadow: none;\n",
              "  }\n",
              "\n",
              "  .colab-df-spinner {\n",
              "    border: 2px solid var(--fill-color);\n",
              "    border-color: transparent;\n",
              "    border-bottom-color: var(--fill-color);\n",
              "    animation:\n",
              "      spin 1s steps(1) infinite;\n",
              "  }\n",
              "\n",
              "  @keyframes spin {\n",
              "    0% {\n",
              "      border-color: transparent;\n",
              "      border-bottom-color: var(--fill-color);\n",
              "      border-left-color: var(--fill-color);\n",
              "    }\n",
              "    20% {\n",
              "      border-color: transparent;\n",
              "      border-left-color: var(--fill-color);\n",
              "      border-top-color: var(--fill-color);\n",
              "    }\n",
              "    30% {\n",
              "      border-color: transparent;\n",
              "      border-left-color: var(--fill-color);\n",
              "      border-top-color: var(--fill-color);\n",
              "      border-right-color: var(--fill-color);\n",
              "    }\n",
              "    40% {\n",
              "      border-color: transparent;\n",
              "      border-right-color: var(--fill-color);\n",
              "      border-top-color: var(--fill-color);\n",
              "    }\n",
              "    60% {\n",
              "      border-color: transparent;\n",
              "      border-right-color: var(--fill-color);\n",
              "    }\n",
              "    80% {\n",
              "      border-color: transparent;\n",
              "      border-right-color: var(--fill-color);\n",
              "      border-bottom-color: var(--fill-color);\n",
              "    }\n",
              "    90% {\n",
              "      border-color: transparent;\n",
              "      border-bottom-color: var(--fill-color);\n",
              "    }\n",
              "  }\n",
              "</style>\n",
              "\n",
              "  <script>\n",
              "    async function quickchart(key) {\n",
              "      const quickchartButtonEl =\n",
              "        document.querySelector('#' + key + ' button');\n",
              "      quickchartButtonEl.disabled = true;  // To prevent multiple clicks.\n",
              "      quickchartButtonEl.classList.add('colab-df-spinner');\n",
              "      try {\n",
              "        const charts = await google.colab.kernel.invokeFunction(\n",
              "            'suggestCharts', [key], {});\n",
              "      } catch (error) {\n",
              "        console.error('Error during call to suggestCharts:', error);\n",
              "      }\n",
              "      quickchartButtonEl.classList.remove('colab-df-spinner');\n",
              "      quickchartButtonEl.classList.add('colab-df-quickchart-complete');\n",
              "    }\n",
              "    (() => {\n",
              "      let quickchartButtonEl =\n",
              "        document.querySelector('#df-acd7b7ff-233b-43ef-b375-b94cb7302224 button');\n",
              "      quickchartButtonEl.style.display =\n",
              "        google.colab.kernel.accessAllowed ? 'block' : 'none';\n",
              "    })();\n",
              "  </script>\n",
              "</div>\n",
              "\n",
              "    </div>\n",
              "  </div>\n"
            ],
            "application/vnd.google.colaboratory.intrinsic+json": {
              "type": "dataframe",
              "variable_name": "df",
              "summary": "{\n  \"name\": \"df\",\n  \"rows\": 3755,\n  \"fields\": [\n    {\n      \"column\": \"work_year\",\n      \"properties\": {\n        \"dtype\": \"number\",\n        \"std\": 0,\n        \"min\": 2020,\n        \"max\": 2023,\n        \"num_unique_values\": 4,\n        \"samples\": [\n          2022,\n          2021,\n          2023\n        ],\n        \"semantic_type\": \"\",\n        \"description\": \"\"\n      }\n    },\n    {\n      \"column\": \"country\",\n      \"properties\": {\n        \"dtype\": \"category\",\n        \"num_unique_values\": 78,\n        \"samples\": [\n          \"Argentina\",\n          \"Spain\",\n          \"Armenia\"\n        ],\n        \"semantic_type\": \"\",\n        \"description\": \"\"\n      }\n    },\n    {\n      \"column\": \"region\",\n      \"properties\": {\n        \"dtype\": \"category\",\n        \"num_unique_values\": 5,\n        \"samples\": [\n          \"Americas\",\n          \"Oceania\",\n          \"Africa\"\n        ],\n        \"semantic_type\": \"\",\n        \"description\": \"\"\n      }\n    },\n    {\n      \"column\": \"experience_level\",\n      \"properties\": {\n        \"dtype\": \"category\",\n        \"num_unique_values\": 4,\n        \"samples\": [\n          \"MI\",\n          \"EX\",\n          \"SE\"\n        ],\n        \"semantic_type\": \"\",\n        \"description\": \"\"\n      }\n    },\n    {\n      \"column\": \"job_title\",\n      \"properties\": {\n        \"dtype\": \"category\",\n        \"num_unique_values\": 93,\n        \"samples\": [\n          \"Cloud Database Engineer\",\n          \"Staff Data Analyst\",\n          \"Insight Analyst\"\n        ],\n        \"semantic_type\": \"\",\n        \"description\": \"\"\n      }\n    },\n    {\n      \"column\": \"salary_in_usd\",\n      \"properties\": {\n        \"dtype\": \"number\",\n        \"std\": 63055,\n        \"min\": 5132,\n        \"max\": 450000,\n        \"num_unique_values\": 1035,\n        \"samples\": [\n          205600,\n          375000,\n          140700\n        ],\n        \"semantic_type\": \"\",\n        \"description\": \"\"\n      }\n    },\n    {\n      \"column\": \"employee_residence\",\n      \"properties\": {\n        \"dtype\": \"category\",\n        \"num_unique_values\": 78,\n        \"samples\": [\n          \"AR\",\n          \"ES\",\n          \"AM\"\n        ],\n        \"semantic_type\": \"\",\n        \"description\": \"\"\n      }\n    },\n    {\n      \"column\": \"company_location\",\n      \"properties\": {\n        \"dtype\": \"category\",\n        \"num_unique_values\": 72,\n        \"samples\": [\n          \"GB\",\n          \"MY\",\n          \"SG\"\n        ],\n        \"semantic_type\": \"\",\n        \"description\": \"\"\n      }\n    },\n    {\n      \"column\": \"company_size\",\n      \"properties\": {\n        \"dtype\": \"category\",\n        \"num_unique_values\": 3,\n        \"samples\": [\n          \"L\",\n          \"S\",\n          \"M\"\n        ],\n        \"semantic_type\": \"\",\n        \"description\": \"\"\n      }\n    },\n    {\n      \"column\": \"years_of_experience\",\n      \"properties\": {\n        \"dtype\": \"number\",\n        \"std\": 2,\n        \"min\": 1,\n        \"max\": 10,\n        \"num_unique_values\": 10,\n        \"samples\": [\n          10,\n          5,\n          1\n        ],\n        \"semantic_type\": \"\",\n        \"description\": \"\"\n      }\n    }\n  ]\n}"
            }
          },
          "metadata": {},
          "execution_count": 6
        }
      ]
    },
    {
      "cell_type": "markdown",
      "source": [
        "para saber quantas linhas tenho no data.frame e as colunas podemos utilizar a função shape que nos retornar a quantidade de linhas e colunas do data frame"
      ],
      "metadata": {
        "id": "2pbsYWMbhIOh"
      }
    },
    {
      "cell_type": "code",
      "source": [
        "df.shape"
      ],
      "metadata": {
        "colab": {
          "base_uri": "https://localhost:8080/"
        },
        "id": "1Ea2ZEQAga1z",
        "outputId": "9a054fba-11c5-44c6-a1a4-6020b8752bd9"
      },
      "execution_count": 8,
      "outputs": [
        {
          "output_type": "execute_result",
          "data": {
            "text/plain": [
              "(3755, 10)"
            ]
          },
          "metadata": {},
          "execution_count": 8
        }
      ]
    },
    {
      "cell_type": "markdown",
      "source": [
        "Uma boa prática de progração é saber os quais são os tipos das variáveis contida no data frame pois pode acontecer de uma variável ter tipos que não condizem com a natureza dos dados, como por exemplo, uma variável que seria do tipo int ou float aparecer com objeto para realizar essa verificação utilizaremos a função info"
      ],
      "metadata": {
        "id": "omvrQXXahbe6"
      }
    },
    {
      "cell_type": "code",
      "source": [
        "df.info()"
      ],
      "metadata": {
        "colab": {
          "base_uri": "https://localhost:8080/"
        },
        "id": "5uEqSlImhV9B",
        "outputId": "21d0aeca-5f8a-447f-94a0-05a83563b0bc"
      },
      "execution_count": 9,
      "outputs": [
        {
          "output_type": "stream",
          "name": "stdout",
          "text": [
            "<class 'pandas.core.frame.DataFrame'>\n",
            "RangeIndex: 3755 entries, 0 to 3754\n",
            "Data columns (total 10 columns):\n",
            " #   Column               Non-Null Count  Dtype \n",
            "---  ------               --------------  ----- \n",
            " 0   work_year            3755 non-null   int64 \n",
            " 1   country              3755 non-null   object\n",
            " 2   region               3755 non-null   object\n",
            " 3   experience_level     3755 non-null   object\n",
            " 4   job_title            3755 non-null   object\n",
            " 5   salary_in_usd        3755 non-null   int64 \n",
            " 6   employee_residence   3755 non-null   object\n",
            " 7   company_location     3755 non-null   object\n",
            " 8   company_size         3755 non-null   object\n",
            " 9   years_of_experience  3755 non-null   int64 \n",
            "dtypes: int64(3), object(7)\n",
            "memory usage: 293.5+ KB\n"
          ]
        }
      ]
    },
    {
      "cell_type": "markdown",
      "source": [
        "Note que que acima temos a variável salário como int porém sabemos que salario pode conter números do tipo float logo o indicado é fazer uma transformação de tipo desta variável"
      ],
      "metadata": {
        "id": "KUDnalGch8hg"
      }
    },
    {
      "cell_type": "code",
      "source": [
        "\n",
        "df['salary_in_usd'] = df['salary_in_usd'].astype(float)\n",
        "df.info()\n"
      ],
      "metadata": {
        "colab": {
          "base_uri": "https://localhost:8080/"
        },
        "id": "R6MuIMBMh4B7",
        "outputId": "54b72e15-1b8f-48cb-9981-781d4e229e25"
      },
      "execution_count": 11,
      "outputs": [
        {
          "output_type": "stream",
          "name": "stdout",
          "text": [
            "<class 'pandas.core.frame.DataFrame'>\n",
            "RangeIndex: 3755 entries, 0 to 3754\n",
            "Data columns (total 10 columns):\n",
            " #   Column               Non-Null Count  Dtype  \n",
            "---  ------               --------------  -----  \n",
            " 0   work_year            3755 non-null   int64  \n",
            " 1   country              3755 non-null   object \n",
            " 2   region               3755 non-null   object \n",
            " 3   experience_level     3755 non-null   object \n",
            " 4   job_title            3755 non-null   object \n",
            " 5   salary_in_usd        3755 non-null   float64\n",
            " 6   employee_residence   3755 non-null   object \n",
            " 7   company_location     3755 non-null   object \n",
            " 8   company_size         3755 non-null   object \n",
            " 9   years_of_experience  3755 non-null   int64  \n",
            "dtypes: float64(1), int64(2), object(7)\n",
            "memory usage: 293.5+ KB\n"
          ]
        }
      ]
    },
    {
      "cell_type": "markdown",
      "source": [
        "acima transformamos o tipo da variável do tipo int para float com a função astype em seguida conferimos com a função info se a coluna de salário teve o tipo modificada com essa alteração veremos se existe valores nulos nas variáveis para isso utlizamos a função isnull juntamente com a função sum para verificar a soma de valores nulos em cada variável."
      ],
      "metadata": {
        "id": "keSbz2QpiibM"
      }
    },
    {
      "cell_type": "code",
      "source": [
        "df.isnull().sum()"
      ],
      "metadata": {
        "colab": {
          "base_uri": "https://localhost:8080/",
          "height": 397
        },
        "id": "q4xoDmKYihPC",
        "outputId": "c4526a6c-2fd1-4a90-f0cb-6f05102d3378"
      },
      "execution_count": 12,
      "outputs": [
        {
          "output_type": "execute_result",
          "data": {
            "text/plain": [
              "work_year              0\n",
              "country                0\n",
              "region                 0\n",
              "experience_level       0\n",
              "job_title              0\n",
              "salary_in_usd          0\n",
              "employee_residence     0\n",
              "company_location       0\n",
              "company_size           0\n",
              "years_of_experience    0\n",
              "dtype: int64"
            ],
            "text/html": [
              "<div>\n",
              "<style scoped>\n",
              "    .dataframe tbody tr th:only-of-type {\n",
              "        vertical-align: middle;\n",
              "    }\n",
              "\n",
              "    .dataframe tbody tr th {\n",
              "        vertical-align: top;\n",
              "    }\n",
              "\n",
              "    .dataframe thead th {\n",
              "        text-align: right;\n",
              "    }\n",
              "</style>\n",
              "<table border=\"1\" class=\"dataframe\">\n",
              "  <thead>\n",
              "    <tr style=\"text-align: right;\">\n",
              "      <th></th>\n",
              "      <th>0</th>\n",
              "    </tr>\n",
              "  </thead>\n",
              "  <tbody>\n",
              "    <tr>\n",
              "      <th>work_year</th>\n",
              "      <td>0</td>\n",
              "    </tr>\n",
              "    <tr>\n",
              "      <th>country</th>\n",
              "      <td>0</td>\n",
              "    </tr>\n",
              "    <tr>\n",
              "      <th>region</th>\n",
              "      <td>0</td>\n",
              "    </tr>\n",
              "    <tr>\n",
              "      <th>experience_level</th>\n",
              "      <td>0</td>\n",
              "    </tr>\n",
              "    <tr>\n",
              "      <th>job_title</th>\n",
              "      <td>0</td>\n",
              "    </tr>\n",
              "    <tr>\n",
              "      <th>salary_in_usd</th>\n",
              "      <td>0</td>\n",
              "    </tr>\n",
              "    <tr>\n",
              "      <th>employee_residence</th>\n",
              "      <td>0</td>\n",
              "    </tr>\n",
              "    <tr>\n",
              "      <th>company_location</th>\n",
              "      <td>0</td>\n",
              "    </tr>\n",
              "    <tr>\n",
              "      <th>company_size</th>\n",
              "      <td>0</td>\n",
              "    </tr>\n",
              "    <tr>\n",
              "      <th>years_of_experience</th>\n",
              "      <td>0</td>\n",
              "    </tr>\n",
              "  </tbody>\n",
              "</table>\n",
              "</div><br><label><b>dtype:</b> int64</label>"
            ]
          },
          "metadata": {},
          "execution_count": 12
        }
      ]
    },
    {
      "cell_type": "markdown",
      "source": [
        "note que não há valores nulos em nenhuma coluna, realizado essa primeira etapas de verificações da qualidade dos dados pode-se seguir para algumas análises descritivas."
      ],
      "metadata": {
        "id": "X9mD6KGsjUaP"
      }
    },
    {
      "cell_type": "markdown",
      "source": [
        "## **Etapa 2**\n",
        "- Na etapa 2 será um overwiew da frequencia e distribuição dos dados por categorias e também verificar:\n",
        "- Cargos mais comuns\n",
        "- Nível de experiência\n",
        "- Tamanho da empresa"
      ],
      "metadata": {
        "id": "uX-orv8Sj0GW"
      }
    },
    {
      "cell_type": "code",
      "source": [
        "df['job_title'].value_counts().head(10)"
      ],
      "metadata": {
        "colab": {
          "base_uri": "https://localhost:8080/",
          "height": 429
        },
        "id": "Q7Zy1X_XjA8T",
        "outputId": "a9931355-bf36-4a48-cec5-4574f71a0bd3"
      },
      "execution_count": 13,
      "outputs": [
        {
          "output_type": "execute_result",
          "data": {
            "text/plain": [
              "job_title\n",
              "Data Engineer                1040\n",
              "Data Scientist                840\n",
              "Data Analyst                  612\n",
              "Machine Learning Engineer     289\n",
              "Analytics Engineer            103\n",
              "Data Architect                101\n",
              "Research Scientist             82\n",
              "Applied Scientist              58\n",
              "Data Science Manager           58\n",
              "Research Engineer              37\n",
              "Name: count, dtype: int64"
            ],
            "text/html": [
              "<div>\n",
              "<style scoped>\n",
              "    .dataframe tbody tr th:only-of-type {\n",
              "        vertical-align: middle;\n",
              "    }\n",
              "\n",
              "    .dataframe tbody tr th {\n",
              "        vertical-align: top;\n",
              "    }\n",
              "\n",
              "    .dataframe thead th {\n",
              "        text-align: right;\n",
              "    }\n",
              "</style>\n",
              "<table border=\"1\" class=\"dataframe\">\n",
              "  <thead>\n",
              "    <tr style=\"text-align: right;\">\n",
              "      <th></th>\n",
              "      <th>count</th>\n",
              "    </tr>\n",
              "    <tr>\n",
              "      <th>job_title</th>\n",
              "      <th></th>\n",
              "    </tr>\n",
              "  </thead>\n",
              "  <tbody>\n",
              "    <tr>\n",
              "      <th>Data Engineer</th>\n",
              "      <td>1040</td>\n",
              "    </tr>\n",
              "    <tr>\n",
              "      <th>Data Scientist</th>\n",
              "      <td>840</td>\n",
              "    </tr>\n",
              "    <tr>\n",
              "      <th>Data Analyst</th>\n",
              "      <td>612</td>\n",
              "    </tr>\n",
              "    <tr>\n",
              "      <th>Machine Learning Engineer</th>\n",
              "      <td>289</td>\n",
              "    </tr>\n",
              "    <tr>\n",
              "      <th>Analytics Engineer</th>\n",
              "      <td>103</td>\n",
              "    </tr>\n",
              "    <tr>\n",
              "      <th>Data Architect</th>\n",
              "      <td>101</td>\n",
              "    </tr>\n",
              "    <tr>\n",
              "      <th>Research Scientist</th>\n",
              "      <td>82</td>\n",
              "    </tr>\n",
              "    <tr>\n",
              "      <th>Applied Scientist</th>\n",
              "      <td>58</td>\n",
              "    </tr>\n",
              "    <tr>\n",
              "      <th>Data Science Manager</th>\n",
              "      <td>58</td>\n",
              "    </tr>\n",
              "    <tr>\n",
              "      <th>Research Engineer</th>\n",
              "      <td>37</td>\n",
              "    </tr>\n",
              "  </tbody>\n",
              "</table>\n",
              "</div><br><label><b>dtype:</b> int64</label>"
            ]
          },
          "metadata": {},
          "execution_count": 13
        }
      ]
    },
    {
      "cell_type": "markdown",
      "source": [
        "A função acima retorna os 10 cargos mais comum nesta banco de dados nota-se que o top 1 são engenheiros de dados seguidos de cientista de dados. Podemos normalizar como mostra o código abaixo para transforma-los para percentuais"
      ],
      "metadata": {
        "id": "w6Bx5utBjv0L"
      }
    },
    {
      "cell_type": "code",
      "source": [
        "(df['job_title'].value_counts(normalize=True).head(10) * 100).round(2)\n"
      ],
      "metadata": {
        "colab": {
          "base_uri": "https://localhost:8080/",
          "height": 429
        },
        "id": "rfHis85Um2If",
        "outputId": "fbfc022e-221a-4d18-826d-7c9cc073e107"
      },
      "execution_count": 35,
      "outputs": [
        {
          "output_type": "execute_result",
          "data": {
            "text/plain": [
              "job_title\n",
              "Data Engineer                27.70\n",
              "Data Scientist               22.37\n",
              "Data Analyst                 16.30\n",
              "Machine Learning Engineer     7.70\n",
              "Analytics Engineer            2.74\n",
              "Data Architect                2.69\n",
              "Research Scientist            2.18\n",
              "Applied Scientist             1.54\n",
              "Data Science Manager          1.54\n",
              "Research Engineer             0.99\n",
              "Name: proportion, dtype: float64"
            ],
            "text/html": [
              "<div>\n",
              "<style scoped>\n",
              "    .dataframe tbody tr th:only-of-type {\n",
              "        vertical-align: middle;\n",
              "    }\n",
              "\n",
              "    .dataframe tbody tr th {\n",
              "        vertical-align: top;\n",
              "    }\n",
              "\n",
              "    .dataframe thead th {\n",
              "        text-align: right;\n",
              "    }\n",
              "</style>\n",
              "<table border=\"1\" class=\"dataframe\">\n",
              "  <thead>\n",
              "    <tr style=\"text-align: right;\">\n",
              "      <th></th>\n",
              "      <th>proportion</th>\n",
              "    </tr>\n",
              "    <tr>\n",
              "      <th>job_title</th>\n",
              "      <th></th>\n",
              "    </tr>\n",
              "  </thead>\n",
              "  <tbody>\n",
              "    <tr>\n",
              "      <th>Data Engineer</th>\n",
              "      <td>27.70</td>\n",
              "    </tr>\n",
              "    <tr>\n",
              "      <th>Data Scientist</th>\n",
              "      <td>22.37</td>\n",
              "    </tr>\n",
              "    <tr>\n",
              "      <th>Data Analyst</th>\n",
              "      <td>16.30</td>\n",
              "    </tr>\n",
              "    <tr>\n",
              "      <th>Machine Learning Engineer</th>\n",
              "      <td>7.70</td>\n",
              "    </tr>\n",
              "    <tr>\n",
              "      <th>Analytics Engineer</th>\n",
              "      <td>2.74</td>\n",
              "    </tr>\n",
              "    <tr>\n",
              "      <th>Data Architect</th>\n",
              "      <td>2.69</td>\n",
              "    </tr>\n",
              "    <tr>\n",
              "      <th>Research Scientist</th>\n",
              "      <td>2.18</td>\n",
              "    </tr>\n",
              "    <tr>\n",
              "      <th>Applied Scientist</th>\n",
              "      <td>1.54</td>\n",
              "    </tr>\n",
              "    <tr>\n",
              "      <th>Data Science Manager</th>\n",
              "      <td>1.54</td>\n",
              "    </tr>\n",
              "    <tr>\n",
              "      <th>Research Engineer</th>\n",
              "      <td>0.99</td>\n",
              "    </tr>\n",
              "  </tbody>\n",
              "</table>\n",
              "</div><br><label><b>dtype:</b> float64</label>"
            ]
          },
          "metadata": {},
          "execution_count": 35
        }
      ]
    },
    {
      "cell_type": "markdown",
      "source": [
        "A função acima nos retornou o percentual do top 10 por categoria.\n",
        "\n",
        "Aplicando a mesma função para  os níveis de esperiência assim temos a quantidade total de funcionáirios por nível de experiencia."
      ],
      "metadata": {
        "id": "s4ZvXQA-nI9B"
      }
    },
    {
      "cell_type": "code",
      "source": [
        "df['experience_level'].value_counts()\n"
      ],
      "metadata": {
        "colab": {
          "base_uri": "https://localhost:8080/",
          "height": 241
        },
        "id": "V830q-JYm3qT",
        "outputId": "5fe7d17d-bc72-455b-82a5-bd6b03061e41"
      },
      "execution_count": 15,
      "outputs": [
        {
          "output_type": "execute_result",
          "data": {
            "text/plain": [
              "experience_level\n",
              "SE    2516\n",
              "MI     805\n",
              "EN     320\n",
              "EX     114\n",
              "Name: count, dtype: int64"
            ],
            "text/html": [
              "<div>\n",
              "<style scoped>\n",
              "    .dataframe tbody tr th:only-of-type {\n",
              "        vertical-align: middle;\n",
              "    }\n",
              "\n",
              "    .dataframe tbody tr th {\n",
              "        vertical-align: top;\n",
              "    }\n",
              "\n",
              "    .dataframe thead th {\n",
              "        text-align: right;\n",
              "    }\n",
              "</style>\n",
              "<table border=\"1\" class=\"dataframe\">\n",
              "  <thead>\n",
              "    <tr style=\"text-align: right;\">\n",
              "      <th></th>\n",
              "      <th>count</th>\n",
              "    </tr>\n",
              "    <tr>\n",
              "      <th>experience_level</th>\n",
              "      <th></th>\n",
              "    </tr>\n",
              "  </thead>\n",
              "  <tbody>\n",
              "    <tr>\n",
              "      <th>SE</th>\n",
              "      <td>2516</td>\n",
              "    </tr>\n",
              "    <tr>\n",
              "      <th>MI</th>\n",
              "      <td>805</td>\n",
              "    </tr>\n",
              "    <tr>\n",
              "      <th>EN</th>\n",
              "      <td>320</td>\n",
              "    </tr>\n",
              "    <tr>\n",
              "      <th>EX</th>\n",
              "      <td>114</td>\n",
              "    </tr>\n",
              "  </tbody>\n",
              "</table>\n",
              "</div><br><label><b>dtype:</b> int64</label>"
            ]
          },
          "metadata": {},
          "execution_count": 15
        }
      ]
    },
    {
      "cell_type": "markdown",
      "source": [
        "Nota-se que existe um npumero considerável de sênior  dois mil quinhentos e dezesseis, seguidos de intermediários e iniciante a  executivos como esperado é a menor categoria"
      ],
      "metadata": {
        "id": "O_s_dNmo0xEF"
      }
    },
    {
      "cell_type": "code",
      "source": [
        "(df['experience_level'].value_counts(normalize=True) * 100).round(2)\n"
      ],
      "metadata": {
        "colab": {
          "base_uri": "https://localhost:8080/",
          "height": 241
        },
        "id": "ZpWMQIrCnEzQ",
        "outputId": "2e832ae9-862a-4091-8146-97e0da979eed"
      },
      "execution_count": 37,
      "outputs": [
        {
          "output_type": "execute_result",
          "data": {
            "text/plain": [
              "experience_level\n",
              "SE    67.00\n",
              "MI    21.44\n",
              "EN     8.52\n",
              "EX     3.04\n",
              "Name: proportion, dtype: float64"
            ],
            "text/html": [
              "<div>\n",
              "<style scoped>\n",
              "    .dataframe tbody tr th:only-of-type {\n",
              "        vertical-align: middle;\n",
              "    }\n",
              "\n",
              "    .dataframe tbody tr th {\n",
              "        vertical-align: top;\n",
              "    }\n",
              "\n",
              "    .dataframe thead th {\n",
              "        text-align: right;\n",
              "    }\n",
              "</style>\n",
              "<table border=\"1\" class=\"dataframe\">\n",
              "  <thead>\n",
              "    <tr style=\"text-align: right;\">\n",
              "      <th></th>\n",
              "      <th>proportion</th>\n",
              "    </tr>\n",
              "    <tr>\n",
              "      <th>experience_level</th>\n",
              "      <th></th>\n",
              "    </tr>\n",
              "  </thead>\n",
              "  <tbody>\n",
              "    <tr>\n",
              "      <th>SE</th>\n",
              "      <td>67.00</td>\n",
              "    </tr>\n",
              "    <tr>\n",
              "      <th>MI</th>\n",
              "      <td>21.44</td>\n",
              "    </tr>\n",
              "    <tr>\n",
              "      <th>EN</th>\n",
              "      <td>8.52</td>\n",
              "    </tr>\n",
              "    <tr>\n",
              "      <th>EX</th>\n",
              "      <td>3.04</td>\n",
              "    </tr>\n",
              "  </tbody>\n",
              "</table>\n",
              "</div><br><label><b>dtype:</b> float64</label>"
            ]
          },
          "metadata": {},
          "execution_count": 37
        }
      ]
    },
    {
      "cell_type": "markdown",
      "source": [
        "Acima a represntação percentual das categorias. Como esperado Sênior com 67% e executivo com aproximadamente 3%"
      ],
      "metadata": {
        "id": "k84FN8Wq2fhb"
      }
    },
    {
      "cell_type": "code",
      "source": [
        "df['company_size'].value_counts()\n"
      ],
      "metadata": {
        "colab": {
          "base_uri": "https://localhost:8080/",
          "height": 209
        },
        "id": "o39NVFujnaXA",
        "outputId": "b497fb56-8c63-4d0f-e45e-886b8579c1c2"
      },
      "execution_count": 17,
      "outputs": [
        {
          "output_type": "execute_result",
          "data": {
            "text/plain": [
              "company_size\n",
              "M    3153\n",
              "L     454\n",
              "S     148\n",
              "Name: count, dtype: int64"
            ],
            "text/html": [
              "<div>\n",
              "<style scoped>\n",
              "    .dataframe tbody tr th:only-of-type {\n",
              "        vertical-align: middle;\n",
              "    }\n",
              "\n",
              "    .dataframe tbody tr th {\n",
              "        vertical-align: top;\n",
              "    }\n",
              "\n",
              "    .dataframe thead th {\n",
              "        text-align: right;\n",
              "    }\n",
              "</style>\n",
              "<table border=\"1\" class=\"dataframe\">\n",
              "  <thead>\n",
              "    <tr style=\"text-align: right;\">\n",
              "      <th></th>\n",
              "      <th>count</th>\n",
              "    </tr>\n",
              "    <tr>\n",
              "      <th>company_size</th>\n",
              "      <th></th>\n",
              "    </tr>\n",
              "  </thead>\n",
              "  <tbody>\n",
              "    <tr>\n",
              "      <th>M</th>\n",
              "      <td>3153</td>\n",
              "    </tr>\n",
              "    <tr>\n",
              "      <th>L</th>\n",
              "      <td>454</td>\n",
              "    </tr>\n",
              "    <tr>\n",
              "      <th>S</th>\n",
              "      <td>148</td>\n",
              "    </tr>\n",
              "  </tbody>\n",
              "</table>\n",
              "</div><br><label><b>dtype:</b> int64</label>"
            ]
          },
          "metadata": {},
          "execution_count": 17
        }
      ]
    },
    {
      "cell_type": "markdown",
      "source": [
        "Nota-se que a maioria das empresas são de porte médio (M) seguidos de grande porte(L) e por último empresas de pequeno porte (s) a distribuição percentual pode ser obtido com código abaixo"
      ],
      "metadata": {
        "id": "mKbPlVmE24sa"
      }
    },
    {
      "cell_type": "code",
      "source": [
        "(df['company_size'].value_counts(normalize=True) * 100).round(2)\n"
      ],
      "metadata": {
        "colab": {
          "base_uri": "https://localhost:8080/",
          "height": 209
        },
        "id": "LKVi-fyenfP4",
        "outputId": "dc0371fa-246c-40a5-e9ad-1e95038549ce"
      },
      "execution_count": 38,
      "outputs": [
        {
          "output_type": "execute_result",
          "data": {
            "text/plain": [
              "company_size\n",
              "M    83.97\n",
              "L    12.09\n",
              "S     3.94\n",
              "Name: proportion, dtype: float64"
            ],
            "text/html": [
              "<div>\n",
              "<style scoped>\n",
              "    .dataframe tbody tr th:only-of-type {\n",
              "        vertical-align: middle;\n",
              "    }\n",
              "\n",
              "    .dataframe tbody tr th {\n",
              "        vertical-align: top;\n",
              "    }\n",
              "\n",
              "    .dataframe thead th {\n",
              "        text-align: right;\n",
              "    }\n",
              "</style>\n",
              "<table border=\"1\" class=\"dataframe\">\n",
              "  <thead>\n",
              "    <tr style=\"text-align: right;\">\n",
              "      <th></th>\n",
              "      <th>proportion</th>\n",
              "    </tr>\n",
              "    <tr>\n",
              "      <th>company_size</th>\n",
              "      <th></th>\n",
              "    </tr>\n",
              "  </thead>\n",
              "  <tbody>\n",
              "    <tr>\n",
              "      <th>M</th>\n",
              "      <td>83.97</td>\n",
              "    </tr>\n",
              "    <tr>\n",
              "      <th>L</th>\n",
              "      <td>12.09</td>\n",
              "    </tr>\n",
              "    <tr>\n",
              "      <th>S</th>\n",
              "      <td>3.94</td>\n",
              "    </tr>\n",
              "  </tbody>\n",
              "</table>\n",
              "</div><br><label><b>dtype:</b> float64</label>"
            ]
          },
          "metadata": {},
          "execution_count": 38
        }
      ]
    },
    {
      "cell_type": "markdown",
      "source": [
        "Nota-se que aproximadamente 84% das empresas são médias 12% são grande e aproximadamente 4% são pequenas. Após as verificações da etapa 2 faremos a etapa 3"
      ],
      "metadata": {
        "id": "5aF2DVSBnjxK"
      }
    },
    {
      "cell_type": "markdown",
      "source": [
        "## **Etapa 3 Estatísticas Descritivas**\n",
        "Nesta etapa calcularemos as principais medidads de posição e disperção serão abordados neste tópico:\n",
        "- **Medidas de tendência central:** média, mediana\n",
        "- **Medidas de dispersão:** desvio padrão, mínimo e máximo\n",
        "- **Distribuição geral:** através de histogramas\n",
        "- **Comparações por grupos:** especialmente por nível de experiência (usando boxplots)"
      ],
      "metadata": {
        "id": "oYSPZZVUoBQ5"
      }
    },
    {
      "cell_type": "code",
      "source": [
        "print(\"Média:\", round(df['salary_in_usd'].mean(), 2))\n",
        "print(\"Mediana:\", round(df['salary_in_usd'].median(), 2))\n",
        "print(\"Desvio padrão:\", round(df['salary_in_usd'].std(), 2))\n",
        "print(\"Salário mínimo:\", round(df['salary_in_usd'].min(), 2))\n",
        "print(\"Salário máximo:\", round(df['salary_in_usd'].max(), 2))\n"
      ],
      "metadata": {
        "colab": {
          "base_uri": "https://localhost:8080/"
        },
        "id": "EuALKGPUnh4x",
        "outputId": "bef55bc2-112c-4919-de2d-b5c9df602a75"
      },
      "execution_count": 21,
      "outputs": [
        {
          "output_type": "stream",
          "name": "stdout",
          "text": [
            "Média: 137570.39\n",
            "Mediana: 135000.0\n",
            "Desvio padrão: 63055.63\n",
            "Salário mínimo: 5132.0\n",
            "Salário máximo: 450000.0\n"
          ]
        }
      ]
    },
    {
      "cell_type": "markdown",
      "source": [
        "A função acima ja printa todas os valores das principais estatísticas descritivas do conjunto de dados, nos fornecendo uma ideia de geral da posição desses dados note que a média e a mediana desse conjunto estão bem próxima quando a média a mediana e a moda que são as 3 medidas de tendência central são iguais significa que os dados seguem um distribuição normal. Porém so com este comportamento nota-se que os dados possui um comportamento quase normal o histograma pode representar visualmente a distribuição dos dados."
      ],
      "metadata": {
        "id": "kCcUifs-p1cY"
      }
    },
    {
      "cell_type": "markdown",
      "source": [
        "Podemos realizar um dicionário de dados e transformar nossas medidas de tendencia central e dispersão em um data frame para ficar visualmente melhor com o código abaixo"
      ],
      "metadata": {
        "id": "10p-zXnOqmqL"
      }
    },
    {
      "cell_type": "code",
      "source": [
        "stats = {\n",
        "    'Estatística': ['Média', 'Mediana', 'Desvio Padrão', 'Mínimo', 'Máximo'],\n",
        "    'Salário (USD)': [\n",
        "        round(df['salary_in_usd'].mean(), 2),\n",
        "        round(df['salary_in_usd'].median(), 2),\n",
        "        round(df['salary_in_usd'].std(), 2),\n",
        "        round(df['salary_in_usd'].min(), 2),\n",
        "        round(df['salary_in_usd'].max(), 2)\n",
        "    ]\n",
        "}\n",
        "\n",
        "df_stats = pd.DataFrame(stats)\n",
        "print(df_stats)"
      ],
      "metadata": {
        "colab": {
          "base_uri": "https://localhost:8080/"
        },
        "id": "nBgyj3xhpseB",
        "outputId": "0b5a0a0d-a001-4e31-a499-dbcb35936008"
      },
      "execution_count": 22,
      "outputs": [
        {
          "output_type": "stream",
          "name": "stdout",
          "text": [
            "     Estatística  Salário (USD)\n",
            "0          Média      137570.39\n",
            "1        Mediana      135000.00\n",
            "2  Desvio Padrão       63055.63\n",
            "3         Mínimo        5132.00\n",
            "4         Máximo      450000.00\n"
          ]
        }
      ]
    },
    {
      "cell_type": "code",
      "source": [
        "\n",
        "plt.figure(figsize=(10, 6))\n",
        "sns.histplot(df['salary_in_usd'], bins=30, kde=True)\n",
        "plt.title('Distribuição dos Salários em USD')\n",
        "plt.xlabel('Salário em USD')\n",
        "plt.ylabel('Frequência')\n",
        "plt.grid(True)\n",
        "plt.show()\n"
      ],
      "metadata": {
        "colab": {
          "base_uri": "https://localhost:8080/",
          "height": 565
        },
        "id": "h3hjrU08o2LT",
        "outputId": "d7393c4b-fcef-4de9-c7be-f2aef7ea85b1"
      },
      "execution_count": 20,
      "outputs": [
        {
          "output_type": "display_data",
          "data": {
            "text/plain": [
              "<Figure size 1000x600 with 1 Axes>"
            ],
            "image/png": "[encoded data removed]"
          },
          "metadata": {}
        }
      ]
    },
    {
      "cell_type": "markdown",
      "source": [
        "O codigo acima que gera o histogram confirma que os dados são bem concentrado em torno da média, ou seja, são bem próximos de uma distribuição normal. Abaixo plotaremos o box plot, este gráfico também nos mostra como o dados esta distribuido."
      ],
      "metadata": {
        "id": "V7TAHHr3q3tf"
      }
    },
    {
      "cell_type": "code",
      "source": [
        "plt.figure(figsize=(10, 6))\n",
        "sns.boxplot(data=df, x='experience_level', y='salary_in_usd')\n",
        "plt.title('Salário por Nível de Experiência')\n",
        "plt.xlabel('Nível de Experiência')\n",
        "plt.ylabel('Salário em USD')\n",
        "plt.grid(True)\n",
        "plt.show()\n"
      ],
      "metadata": {
        "colab": {
          "base_uri": "https://localhost:8080/",
          "height": 565
        },
        "id": "DagPXJKRpJRV",
        "outputId": "00c46956-3d9e-404d-b51b-5226c0a49027"
      },
      "execution_count": 23,
      "outputs": [
        {
          "output_type": "display_data",
          "data": {
            "text/plain": [
              "<Figure size 1000x600 with 1 Axes>"
            ],
            "image/png": "[encoded data removed]"
          },
          "metadata": {}
        }
      ]
    },
    {
      "cell_type": "markdown",
      "source": [
        "O box plot é um grafico que nos mostra como os dados estão distribuidos e também nos mostra a presença de outliers, ou seja, valores discrepantes na base caso os valores esteja acima do limite superior ou abaixo do limite inferior esses dados são considerados outliers."
      ],
      "metadata": {
        "id": "IuvWJlAqrnvS"
      }
    },
    {
      "cell_type": "markdown",
      "source": [
        "Faremos um agrupamento por níveis de experiência e output desejado é quanto maior a experiência espera-se um melhor remuneração, para isto, utilizaremos a função groupby com alguma funçã de agregação neste caso utilizaremos a media."
      ],
      "metadata": {
        "id": "HCm-XMfEtU1b"
      }
    },
    {
      "cell_type": "code",
      "source": [
        "salario_por_Experiencia = df.groupby('experience_level')['salary_in_usd'].mean().sort_values(ascending=False).round(2)\n",
        "\n",
        "print(\"Média salarial por nível de experiência:\")\n",
        "print(salario_por_Experiencia)\n",
        "\n"
      ],
      "metadata": {
        "colab": {
          "base_uri": "https://localhost:8080/"
        },
        "id": "7LOLEFbyrgJk",
        "outputId": "fc8c98d4-6d2e-43a4-9d63-2306752305d2"
      },
      "execution_count": 27,
      "outputs": [
        {
          "output_type": "stream",
          "name": "stdout",
          "text": [
            "Média salarial por nível de experiência:\n",
            "experience_level\n",
            "EX    194930.93\n",
            "SE    153051.07\n",
            "MI    104525.94\n",
            "EN     78546.28\n",
            "Name: salary_in_usd, dtype: float64\n"
          ]
        }
      ]
    },
    {
      "cell_type": "code",
      "source": [
        "salario_por_porte_empresa = df.groupby('company_size')['salary_in_usd'].mean().sort_values(ascending=False).round(2)\n",
        "print(\"\\nMédia salarial por tamanho da empresa:\")\n",
        "print(salario_por_porte_empresa)\n"
      ],
      "metadata": {
        "colab": {
          "base_uri": "https://localhost:8080/"
        },
        "id": "sP5K4-DAsEF0",
        "outputId": "bed74bce-cbe4-4b3f-de4c-9817d692dede"
      },
      "execution_count": 26,
      "outputs": [
        {
          "output_type": "stream",
          "name": "stdout",
          "text": [
            "\n",
            "Média salarial por tamanho da empresa:\n",
            "company_size\n",
            "M    143130.55\n",
            "L    118300.98\n",
            "S     78226.68\n",
            "Name: salary_in_usd, dtype: float64\n"
          ]
        }
      ]
    },
    {
      "cell_type": "markdown",
      "source": [
        "## **Etapa 04  Comparações por País**\n",
        "Nesta etapa o objetivo é:\n",
        "\n",
        "- Verificar os 10 países com as maiores médias salariais\n",
        "Essas comparações são fundamentais para entender onde estão os maiores salários — seja em termos de função ou localização geográfica."
      ],
      "metadata": {
        "id": "jeRgInPwuqTg"
      }
    },
    {
      "cell_type": "code",
      "source": [
        "pais_salario = (\n",
        "    df.groupby('country')['salary_in_usd']\n",
        "    .mean()\n",
        "    .round(2)\n",
        "    .sort_values(ascending=False)\n",
        "    .head(10)\n",
        ")\n",
        "\n",
        "print(pais_salario)\n"
      ],
      "metadata": {
        "colab": {
          "base_uri": "https://localhost:8080/"
        },
        "id": "PcdgvVipuPu4",
        "outputId": "88f8a9ef-eb99-446b-d6ca-37042b012c07"
      },
      "execution_count": 29,
      "outputs": [
        {
          "output_type": "stream",
          "name": "stdout",
          "text": [
            "country\n",
            "Israel                      423834.00\n",
            "Malaysia                    200000.00\n",
            "Puerto Rico                 166000.00\n",
            "United States of America    152822.01\n",
            "Canada                      132222.91\n",
            "China                       125404.00\n",
            "New Zealand                 125000.00\n",
            "Bosnia and Herzegovina      120000.00\n",
            "Ireland                     114943.43\n",
            "Dominican Republic          110000.00\n",
            "Name: salary_in_usd, dtype: float64\n"
          ]
        }
      ]
    },
    {
      "cell_type": "markdown",
      "source": [
        "A função acima retorna o top 10 países com maiores médias salariais, iniciando com Israel no top1 e finalizando em decimo lugar a república dominicana"
      ],
      "metadata": {
        "id": "uRJUMa2fweim"
      }
    },
    {
      "cell_type": "markdown",
      "source": [
        "## Etapa 5 correlação e tendência\n",
        "Nesta etapa investigaremos se:\n",
        "\n",
        "- Existe alguma **tendência de aumento salarial com os anos?**\n",
        "- Quanto maior o tempo de experiência, maior o salário?"
      ],
      "metadata": {
        "id": "4Ie8ZWLUyip9"
      }
    },
    {
      "cell_type": "code",
      "source": [
        "correlacao = df[['salary_in_usd', 'work_year', 'years_of_experience']].corr()\n",
        "print(correlacao)\n"
      ],
      "metadata": {
        "colab": {
          "base_uri": "https://localhost:8080/"
        },
        "id": "pJHRsEubw6lD",
        "outputId": "e1548ceb-4ec3-40af-b7a4-bad87ac841f6"
      },
      "execution_count": 31,
      "outputs": [
        {
          "output_type": "stream",
          "name": "stdout",
          "text": [
            "                     salary_in_usd  work_year  years_of_experience\n",
            "salary_in_usd             1.000000   0.228290             0.410723\n",
            "work_year                 0.228290   1.000000             0.178878\n",
            "years_of_experience       0.410723   0.178878             1.000000\n"
          ]
        }
      ]
    },
    {
      "cell_type": "code",
      "source": [
        "\n",
        "plt.figure(figsize=(8, 6))\n",
        "sns.heatmap(correlacao, annot=True, cmap='coolwarm', fmt=\".2f\")\n",
        "plt.title('Matriz de Correlação - Salário, Ano e Experiência')\n",
        "plt.show()\n"
      ],
      "metadata": {
        "colab": {
          "base_uri": "https://localhost:8080/",
          "height": 545
        },
        "id": "z_l_0TQcvG2O",
        "outputId": "cdcc92a9-3d52-485e-a5ba-957b61d9959e"
      },
      "execution_count": 32,
      "outputs": [
        {
          "output_type": "display_data",
          "data": {
            "text/plain": [
              "<Figure size 800x600 with 2 Axes>"
            ],
            "image/png": "[encoded data removed]"
          },
          "metadata": {}
        }
      ]
    },
    {
      "cell_type": "markdown",
      "source": [
        "A matriz de correlação nos mostra o quão correlacionada são as variáveis, note graficamente que a diagonal principal da matriz é 1, pois esta comparando a variável com ela mesmo, outro detalhe é que é uma matriz simétrica ou seja eu posso observar valores acima da diagonal principal ou abaixo pois a correlação de A,B e a mesma de B,A. A correlação varia de -1 a 1 sendo que valores mais proximos de 1 indica correlação fortemente positiva, o efeito desta medida na prática por exemplo poderia dizer que quanto maior a experiencia maior o salário, pois foi o maior coeficiente de correlação."
      ],
      "metadata": {
        "id": "pfjtRWDixWjy"
      }
    }
  ]
}